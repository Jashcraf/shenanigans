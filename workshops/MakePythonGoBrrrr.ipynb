{
 "cells": [
  {
   "cell_type": "markdown",
   "id": "5a6a72e5-9eaa-48fc-b770-f8f196a92ca9",
   "metadata": {},
   "source": [
    "# Make Python go Brrrrr - Joseph Long 03/22/2022\n",
    "I want to parallel process some optical physics\n",
    "- Gaussian Beamlet Decomposition\n",
    "- Polarization Ray Tracing\n",
    "\n",
    "### Vocab\n",
    "\n",
    "\n",
    "Numba allows you to write your own kernels that operate on Cupy arrays!\n",
    "\n",
    "Cupy uses pre-compiled functions\n",
    "\n",
    "## \"Embarrassingly Parallel\" Problems\n",
    "Things where you don't have to do anything to re-structure the problem to parallelize it\n",
    "- Divide into units that don't require communication between units!\n",
    "- Units have the input information\n",
    "- Units don't need to ask their neighbor\n",
    "- Units can write their result all at once\n",
    "\n",
    "Astro Examples\n",
    "- Testing orbit fits with different parameters\n",
    "- calibrating the contrast at many points w/ fake planet injections\n",
    "- dark/bias/flat correcting a whole night of observations\n",
    "\n",
    "## Non-\"Embarrassingly Parallel\" Problems\n",
    "Units that need to communicate to each other\n",
    "- Common when writing out results\n",
    "- Need synchronization points\n",
    "\n",
    "Astro Examples\n",
    "- N body simulations\n",
    "- fluid dynamics simulations\n",
    "- file compression\n",
    "\n",
    "## Functional Purity\n",
    "_pure functions:_ operate identically to math functions e.g. f(x) = 2x\n",
    "_impure functions_: have side effects e.g. \n",
    "\n",
    "`def f(x):`\n",
    "\n",
    "`    print('called f(x)')`\n",
    "\n",
    "`    return 2x`\n",
    "\n",
    "Pure functions are better for parallelization! \n",
    "\n",
    "## The first problem\n",
    "- your code is slow!\n",
    "- your program maxes out 1 core!\n",
    "- your python code uses `multiprocessing` to use all cores on your computer but NOT on multiple computers in parallel!\n",
    "\n",
    "## The `Ray` python package\n",
    "Built for parallelism. Ignore most of what goes on under the hood."
   ]
  },
  {
   "cell_type": "code",
   "execution_count": 1,
   "id": "14e920e3-af4e-4255-8cbd-86cda6be8fc9",
   "metadata": {},
   "outputs": [
    {
     "name": "stdout",
     "output_type": "stream",
     "text": [
      "Delay was 2.7271072245597465 sec\n",
      "Delay was 2.659958782576988 sec\n",
      "Delay was 2.3898726772562426 sec\n",
      "Delay was 2.4741810141576788 sec\n",
      "Delay was 2.1322021014016648 sec\n",
      "Delay was 2.071398089942027 sec\n",
      "Delay was 2.1619966366261036 sec\n",
      "Delay was 2.6365671212551285 sec\n",
      "Delay was 2.7687874992795596 sec\n",
      "Delay was 2.3871740651692637 sec\n"
     ]
    }
   ],
   "source": [
    "# The slow version!\n",
    "import time\n",
    "import random\n",
    "\n",
    "def time_waster(min_delay: float = 1, max_delay: float=1) -> float:\n",
    "    \n",
    "    delay = (max_delay-min_delay)*random.random() + min_delay\n",
    "    time.sleep(delay)\n",
    "    return delay\n",
    "\n",
    "def main():\n",
    "    for _ in range(10):\n",
    "        result = time_waster(min_delay=2,max_delay=3)\n",
    "        print(f\"Delay was {result} sec\")\n",
    "        \n",
    "if __name__ == \"main\":\n",
    "    start = time.time()\n",
    "    main()\n",
    "    print(f\"Took {time.time() - start}\")\n",
    "    \n",
    "main()"
   ]
  },
  {
   "cell_type": "code",
   "execution_count": 2,
   "id": "fdba0fa0-37a1-4810-9384-fc927147e318",
   "metadata": {},
   "outputs": [
    {
     "name": "stdout",
     "output_type": "stream",
     "text": [
      "Delay was 2.5393779920580535 sec\n",
      "Delay was 2.8071518478152004 sec\n",
      "Delay was 2.135721757691998 sec\n",
      "Delay was 2.974236252636493 sec\n",
      "Delay was 2.099829523551635 sec\n",
      "Delay was 2.407166373533177 sec\n",
      "Delay was 2.234198802008069 sec\n",
      "Delay was 2.052082425725765 sec\n",
      "Delay was 2.892786093701405 sec\n",
      "Delay was 2.4402318467233934 sec\n"
     ]
    }
   ],
   "source": [
    "# The ray version!\n",
    "# It takes > 1s to start up, so if you plan to go faster this isn't worth it\n",
    "import time\n",
    "import random\n",
    "import ray\n",
    "\n",
    "@ray.remote # added decorator\n",
    "def time_waster(min_delay: float = 1, max_delay: float=1) -> float:\n",
    "    \n",
    "    delay = (max_delay-min_delay)*random.random() + min_delay\n",
    "    time.sleep(delay)\n",
    "    return delay\n",
    "\n",
    "def main():\n",
    "    pending = []\n",
    "    for _ in range(10):\n",
    "        # This will return a reference to a process that isn't necesarilly finished computing\n",
    "        ref = time_waster.remote(min_delay=2,max_delay=3) # change how it's called\n",
    "        pending.append(ref) # hold on to results until they are done\n",
    "        \n",
    "        # submission is happening one at a time, process happens in parallel\n",
    "        \n",
    "    for ref in pending: # loop over results\n",
    "        result = ray.get(ref) # get references\n",
    "        print(f\"Delay was {result} sec\")\n",
    "        \n",
    "if __name__ == \"main\":\n",
    "    start = time.time()\n",
    "    main()\n",
    "    print(f\"Took {time.time() - start}\")\n",
    "    \n",
    "main()"
   ]
  },
  {
   "cell_type": "markdown",
   "id": "a744e103-f459-4a0c-9826-8409f21cbf48",
   "metadata": {},
   "source": [
    "## The Drawback\n",
    "The process is limited by the slowest operation. You can actually just return in the order the results are ready!"
   ]
  },
  {
   "cell_type": "markdown",
   "id": "b4e6ad69-f37a-44f2-9e27-04775d381932",
   "metadata": {},
   "source": [
    "## Caveats\n",
    "- Cluster-scale ray is hard to set up but can be really useful!\n",
    "- Ray functions *only* run in the executor, making automatic tests awk\n",
    "- Reccomend your analysis is regular python, and intensive functions are decorated with @ray.remote\n",
    "- Visibility grows unavoidable complexity, test at small scales first\n",
    "\n",
    "You can access the dashboard through the IP it prints in the terminal!"
   ]
  },
  {
   "cell_type": "code",
   "execution_count": 3,
   "id": "f949decc-9041-47ad-b46e-6a571bd1d90b",
   "metadata": {},
   "outputs": [],
   "source": [
    "# Calling a non-wrapped version of the function\n",
    "# Non-wrapped is _time_waster\n",
    "# wrapped is time_waster\n",
    "\n",
    "def _time_waster():\n",
    "    return 1\n",
    "\n",
    "time_waster = ray.remote(_time_waster)"
   ]
  },
  {
   "cell_type": "markdown",
   "id": "aeb34aba-68e5-4767-96f5-2b1d95060f52",
   "metadata": {},
   "source": [
    "# The Second kind of Problem\n",
    "- try not to use for loops\n",
    "- array broadcast when you can\n",
    "- But you NEED to do loops for your process\n",
    "- If there are so many network calls then ray is probably not meaningful\n",
    "\n",
    "## Numba\n",
    "A _just-in-time compiler:_ Built simmilarly to ahead-of-time compilers. Compile code into machine code. Python is an interpreted language, so it doesn't compile. Numba is kind of amazing! \n",
    "\n",
    "Apply one decorator, get instant performance*\n",
    "Terms and conditions apply\n",
    "\n",
    "@jit turns the function into just in time. But there are situations where it doesn't optimize well - but it'll default to do something correct!\n",
    "\n",
    "@njit Nopython = True jit! If you can't compile this completely into something ignoring python objects, DON'T BOTHER and throw an error. Just get me to machine code! Only works with primitive data types."
   ]
  },
  {
   "cell_type": "code",
   "execution_count": 16,
   "id": "d828b68f-910a-4017-8dc1-137cb23796a8",
   "metadata": {},
   "outputs": [
    {
     "ename": "TypingError",
     "evalue": "Failed in nopython mode pipeline (step: nopython frontend)\nInternal error at <numba.core.typeinfer.ExhaustIterConstraint object at 0x7ff730203430>.\n\u001b[1m\u001b[1mwrong tuple length for '$4load_attr.1': expected 3, got 2\u001b[0m\n\u001b[0m\u001b[1mDuring: typing of exhaust iter at <ipython-input-16-8f79f43d97cc> (23)\u001b[0m\nEnable logging at debug level for details.\n\u001b[1m\nFile \"<ipython-input-16-8f79f43d97cc>\", line 23:\u001b[0m\n\u001b[1mdef demo_fastest(arr):\n\u001b[1m    planes,width,height = arr.shape\n\u001b[0m    \u001b[1m^\u001b[0m\u001b[0m\n",
     "output_type": "error",
     "traceback": [
      "\u001b[0;31m---------------------------------------------------------------------------\u001b[0m",
      "\u001b[0;31mTypingError\u001b[0m                               Traceback (most recent call last)",
      "\u001b[0;32m<ipython-input-16-8f79f43d97cc>\u001b[0m in \u001b[0;36m<module>\u001b[0;34m\u001b[0m\n\u001b[1;32m     45\u001b[0m         \u001b[0mprint\u001b[0m\u001b[0;34m(\u001b[0m\u001b[0;34mf\"time per iteration: {(time.time()-start)/N}\"\u001b[0m\u001b[0;34m)\u001b[0m\u001b[0;34m\u001b[0m\u001b[0;34m\u001b[0m\u001b[0m\n\u001b[1;32m     46\u001b[0m \u001b[0;34m\u001b[0m\u001b[0m\n\u001b[0;32m---> 47\u001b[0;31m \u001b[0mmain\u001b[0m\u001b[0;34m(\u001b[0m\u001b[0;34m)\u001b[0m\u001b[0;34m\u001b[0m\u001b[0;34m\u001b[0m\u001b[0m\n\u001b[0m",
      "\u001b[0;32m<ipython-input-16-8f79f43d97cc>\u001b[0m in \u001b[0;36mmain\u001b[0;34m()\u001b[0m\n\u001b[1;32m     37\u001b[0m     \u001b[0;31m#warmup\u001b[0m\u001b[0;34m\u001b[0m\u001b[0;34m\u001b[0m\u001b[0;34m\u001b[0m\u001b[0m\n\u001b[1;32m     38\u001b[0m     \u001b[0;32mfor\u001b[0m \u001b[0mimpl\u001b[0m \u001b[0;32min\u001b[0m \u001b[0;34m(\u001b[0m\u001b[0mdemo\u001b[0m\u001b[0;34m,\u001b[0m\u001b[0mdemo_faster\u001b[0m\u001b[0;34m,\u001b[0m\u001b[0mdemo_fastest\u001b[0m\u001b[0;34m)\u001b[0m\u001b[0;34m:\u001b[0m\u001b[0;34m\u001b[0m\u001b[0;34m\u001b[0m\u001b[0m\n\u001b[0;32m---> 39\u001b[0;31m         \u001b[0mimpl\u001b[0m\u001b[0;34m(\u001b[0m\u001b[0mcube\u001b[0m\u001b[0;34m[\u001b[0m\u001b[0;36m0\u001b[0m\u001b[0;34m]\u001b[0m\u001b[0;34m)\u001b[0m\u001b[0;34m\u001b[0m\u001b[0;34m\u001b[0m\u001b[0m\n\u001b[0m\u001b[1;32m     40\u001b[0m \u001b[0;34m\u001b[0m\u001b[0m\n\u001b[1;32m     41\u001b[0m     \u001b[0;32mfor\u001b[0m \u001b[0mimpl\u001b[0m \u001b[0;32min\u001b[0m \u001b[0;34m(\u001b[0m\u001b[0mdemo\u001b[0m\u001b[0;34m,\u001b[0m\u001b[0mdemo_faster\u001b[0m\u001b[0;34m,\u001b[0m\u001b[0mdemo_fastest\u001b[0m\u001b[0;34m)\u001b[0m\u001b[0;34m:\u001b[0m\u001b[0;34m\u001b[0m\u001b[0;34m\u001b[0m\u001b[0m\n",
      "\u001b[0;32m/opt/anaconda3/lib/python3.8/site-packages/numba/core/dispatcher.py\u001b[0m in \u001b[0;36m_compile_for_args\u001b[0;34m(self, *args, **kws)\u001b[0m\n\u001b[1;32m    418\u001b[0m                 \u001b[0me\u001b[0m\u001b[0;34m.\u001b[0m\u001b[0mpatch_message\u001b[0m\u001b[0;34m(\u001b[0m\u001b[0mmsg\u001b[0m\u001b[0;34m)\u001b[0m\u001b[0;34m\u001b[0m\u001b[0;34m\u001b[0m\u001b[0m\n\u001b[1;32m    419\u001b[0m \u001b[0;34m\u001b[0m\u001b[0m\n\u001b[0;32m--> 420\u001b[0;31m             \u001b[0merror_rewrite\u001b[0m\u001b[0;34m(\u001b[0m\u001b[0me\u001b[0m\u001b[0;34m,\u001b[0m \u001b[0;34m'typing'\u001b[0m\u001b[0;34m)\u001b[0m\u001b[0;34m\u001b[0m\u001b[0;34m\u001b[0m\u001b[0m\n\u001b[0m\u001b[1;32m    421\u001b[0m         \u001b[0;32mexcept\u001b[0m \u001b[0merrors\u001b[0m\u001b[0;34m.\u001b[0m\u001b[0mUnsupportedError\u001b[0m \u001b[0;32mas\u001b[0m \u001b[0me\u001b[0m\u001b[0;34m:\u001b[0m\u001b[0;34m\u001b[0m\u001b[0;34m\u001b[0m\u001b[0m\n\u001b[1;32m    422\u001b[0m             \u001b[0;31m# Something unsupported is present in the user code, add help info\u001b[0m\u001b[0;34m\u001b[0m\u001b[0;34m\u001b[0m\u001b[0;34m\u001b[0m\u001b[0m\n",
      "\u001b[0;32m/opt/anaconda3/lib/python3.8/site-packages/numba/core/dispatcher.py\u001b[0m in \u001b[0;36merror_rewrite\u001b[0;34m(e, issue_type)\u001b[0m\n\u001b[1;32m    359\u001b[0m                 \u001b[0;32mraise\u001b[0m \u001b[0me\u001b[0m\u001b[0;34m\u001b[0m\u001b[0;34m\u001b[0m\u001b[0m\n\u001b[1;32m    360\u001b[0m             \u001b[0;32melse\u001b[0m\u001b[0;34m:\u001b[0m\u001b[0;34m\u001b[0m\u001b[0;34m\u001b[0m\u001b[0m\n\u001b[0;32m--> 361\u001b[0;31m                 \u001b[0;32mraise\u001b[0m \u001b[0me\u001b[0m\u001b[0;34m.\u001b[0m\u001b[0mwith_traceback\u001b[0m\u001b[0;34m(\u001b[0m\u001b[0;32mNone\u001b[0m\u001b[0;34m)\u001b[0m\u001b[0;34m\u001b[0m\u001b[0;34m\u001b[0m\u001b[0m\n\u001b[0m\u001b[1;32m    362\u001b[0m \u001b[0;34m\u001b[0m\u001b[0m\n\u001b[1;32m    363\u001b[0m         \u001b[0margtypes\u001b[0m \u001b[0;34m=\u001b[0m \u001b[0;34m[\u001b[0m\u001b[0;34m]\u001b[0m\u001b[0;34m\u001b[0m\u001b[0;34m\u001b[0m\u001b[0m\n",
      "\u001b[0;31mTypingError\u001b[0m: Failed in nopython mode pipeline (step: nopython frontend)\nInternal error at <numba.core.typeinfer.ExhaustIterConstraint object at 0x7ff730203430>.\n\u001b[1m\u001b[1mwrong tuple length for '$4load_attr.1': expected 3, got 2\u001b[0m\n\u001b[0m\u001b[1mDuring: typing of exhaust iter at <ipython-input-16-8f79f43d97cc> (23)\u001b[0m\nEnable logging at debug level for details.\n\u001b[1m\nFile \"<ipython-input-16-8f79f43d97cc>\", line 23:\u001b[0m\n\u001b[1mdef demo_fastest(arr):\n\u001b[1m    planes,width,height = arr.shape\n\u001b[0m    \u001b[1m^\u001b[0m\u001b[0m\n"
     ]
    }
   ],
   "source": [
    "import numba\n",
    "import time\n",
    "import numpy as np\n",
    "import random\n",
    "\n",
    "def demo(arr):\n",
    "    width,height = arr.shape\n",
    "    out = np.zeros_like(arr)\n",
    "    for i in range(height):\n",
    "        for j in range(width):\n",
    "            out[j,i] = random.random()\n",
    "            \n",
    "@numba.jit # just in time compilation\n",
    "def demo_faster(arr):\n",
    "    width,height = arr.shape\n",
    "    out = np.zeros_like(arr)\n",
    "    for i in range(height):\n",
    "        for j in range(width):\n",
    "            out[j,i] = random.random()\n",
    "            \n",
    "@numba.njit(parallel=True) # \n",
    "def demo_fastest(arr):\n",
    "    planes,width,height = arr.shape\n",
    "    outcube = np.zeros_like(arr)\n",
    "    for p in numba.prange(planes): # only parallelize the top level! You can break your problem up into smaller bits\n",
    "        for i in range(height):\n",
    "            for j in range(width):\n",
    "                outcube[p,j,i] = random.random()\n",
    "            \n",
    "# Calling jit takes a while for the first time, but then it's faster!\n",
    "\n",
    "def main():\n",
    "    N = 100\n",
    "    cube = np.arange(N**3,dtype=float).reshape(N,N,N)\n",
    "    outcube = np.zeros_like(cube)\n",
    "    \n",
    "    #warmup\n",
    "    for impl in (demo,demo_faster,demo_fastest):\n",
    "        impl(cube[0])\n",
    "        \n",
    "    for impl in (demo,demo_faster,demo_fastest):\n",
    "        start = time.time()\n",
    "        for i in range(N):\n",
    "            outcube[i] = impl(cube[i])\n",
    "        print(f\"time per iteration: {(time.time()-start)/N}\")\n",
    "        \n",
    "main()"
   ]
  },
  {
   "cell_type": "code",
   "execution_count": null,
   "id": "3705ad6e-8b26-4590-a49c-6bc0181d9ee2",
   "metadata": {},
   "outputs": [],
   "source": [
    "# You can replace range() with numba.prange()"
   ]
  }
 ],
 "metadata": {
  "kernelspec": {
   "display_name": "Python 3",
   "language": "python",
   "name": "python3"
  },
  "language_info": {
   "codemirror_mode": {
    "name": "ipython",
    "version": 3
   },
   "file_extension": ".py",
   "mimetype": "text/x-python",
   "name": "python",
   "nbconvert_exporter": "python",
   "pygments_lexer": "ipython3",
   "version": "3.8.8"
  }
 },
 "nbformat": 4,
 "nbformat_minor": 5
}
