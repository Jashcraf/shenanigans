{
 "cells": [
  {
   "cell_type": "markdown",
   "id": "5a6a72e5-9eaa-48fc-b770-f8f196a92ca9",
   "metadata": {},
   "source": [
    "# Make Python go Brrrrr - Joseph Long\n",
    "I want to parallel process some optical physics\n",
    "- Gaussian Beamlet Decomposition\n",
    "- Polarization Ray Tracing\n",
    "\n",
    "### Vocab\n",
    "\n",
    "\n",
    "Numba allows you to write your own kernels that operate on Cupy arrays!\n",
    "\n",
    "Cupy uses pre-compiled functions\n",
    "\n",
    "## \"Embarrassingly Parallel\" Problems\n",
    "Things where you don't have to do anything to re-structure the problem to parallelize it\n",
    "- Divide into units that don't require communication between units!\n",
    "- Units have the input information\n",
    "- Units don't need to ask their neighbor\n",
    "- Units can write their result all at once\n",
    "\n",
    "Astro Examples\n",
    "- Testing orbit fits with different parameters\n",
    "- calibrating the contrast at many points w/ fake planet injections\n",
    "- dark/bias/flat correcting a whole night of observations\n",
    "\n",
    "## Non-\"Embarrassingly Parallel\" Problems\n",
    "Units that need to communicate to each other\n",
    "- Common when writing out results\n",
    "- Need synchronization points\n",
    "\n",
    "Astro Examples\n",
    "- N body simulations\n",
    "- fluid dynamics simulations\n",
    "- file compression\n",
    "\n",
    "## Functional Purity\n",
    "_pure functions:_ operate identically to math functions e.g. f(x) = 2x\n",
    "_impure functions_: have side effects e.g. \n",
    "\n",
    "`def f(x):`\n",
    "\n",
    "`    print('called f(x)')`\n",
    "\n",
    "`    return 2x`\n",
    "\n",
    "Pure functions are better for parallelization! \n",
    "\n",
    "## The first problem\n",
    "- your code is slow!\n",
    "- your program maxes out 1 core!\n",
    "- your python code uses `multiprocessing` to use all cores on your computer but NOT on multiple computers in parallel!\n",
    "\n",
    "## The `Ray` python package\n",
    "Built for parallelism. Ignore most of what goes on under the hood."
   ]
  },
  {
   "cell_type": "code",
   "execution_count": 7,
   "id": "14e920e3-af4e-4255-8cbd-86cda6be8fc9",
   "metadata": {},
   "outputs": [
    {
     "name": "stdout",
     "output_type": "stream",
     "text": [
      "Delay was 6.559074909443284 sec\n"
     ]
    },
    {
     "ename": "KeyboardInterrupt",
     "evalue": "",
     "output_type": "error",
     "traceback": [
      "\u001b[0;31m---------------------------------------------------------------------------\u001b[0m",
      "\u001b[0;31mKeyboardInterrupt\u001b[0m                         Traceback (most recent call last)",
      "\u001b[0;32m<ipython-input-7-d9e2ccd12d38>\u001b[0m in \u001b[0;36m<module>\u001b[0;34m\u001b[0m\n\u001b[1;32m     19\u001b[0m     \u001b[0mprint\u001b[0m\u001b[0;34m(\u001b[0m\u001b[0;34mf\"Took {time.time() - start}\"\u001b[0m\u001b[0;34m)\u001b[0m\u001b[0;34m\u001b[0m\u001b[0;34m\u001b[0m\u001b[0m\n\u001b[1;32m     20\u001b[0m \u001b[0;34m\u001b[0m\u001b[0m\n\u001b[0;32m---> 21\u001b[0;31m \u001b[0mmain\u001b[0m\u001b[0;34m(\u001b[0m\u001b[0;34m)\u001b[0m\u001b[0;34m\u001b[0m\u001b[0;34m\u001b[0m\u001b[0m\n\u001b[0m",
      "\u001b[0;32m<ipython-input-7-d9e2ccd12d38>\u001b[0m in \u001b[0;36mmain\u001b[0;34m()\u001b[0m\n\u001b[1;32m     11\u001b[0m \u001b[0;32mdef\u001b[0m \u001b[0mmain\u001b[0m\u001b[0;34m(\u001b[0m\u001b[0;34m)\u001b[0m\u001b[0;34m:\u001b[0m\u001b[0;34m\u001b[0m\u001b[0;34m\u001b[0m\u001b[0m\n\u001b[1;32m     12\u001b[0m     \u001b[0;32mfor\u001b[0m \u001b[0m_\u001b[0m \u001b[0;32min\u001b[0m \u001b[0mrange\u001b[0m\u001b[0;34m(\u001b[0m\u001b[0;36m10\u001b[0m\u001b[0;34m)\u001b[0m\u001b[0;34m:\u001b[0m\u001b[0;34m\u001b[0m\u001b[0;34m\u001b[0m\u001b[0m\n\u001b[0;32m---> 13\u001b[0;31m         \u001b[0mresult\u001b[0m \u001b[0;34m=\u001b[0m \u001b[0mtime_waster\u001b[0m\u001b[0;34m(\u001b[0m\u001b[0mmin_delay\u001b[0m\u001b[0;34m=\u001b[0m\u001b[0;36m2\u001b[0m\u001b[0;34m,\u001b[0m\u001b[0mmax_delay\u001b[0m\u001b[0;34m=\u001b[0m\u001b[0;36m30\u001b[0m\u001b[0;34m)\u001b[0m\u001b[0;34m\u001b[0m\u001b[0;34m\u001b[0m\u001b[0m\n\u001b[0m\u001b[1;32m     14\u001b[0m         \u001b[0mprint\u001b[0m\u001b[0;34m(\u001b[0m\u001b[0;34mf\"Delay was {result} sec\"\u001b[0m\u001b[0;34m)\u001b[0m\u001b[0;34m\u001b[0m\u001b[0;34m\u001b[0m\u001b[0m\n\u001b[1;32m     15\u001b[0m \u001b[0;34m\u001b[0m\u001b[0m\n",
      "\u001b[0;32m<ipython-input-7-d9e2ccd12d38>\u001b[0m in \u001b[0;36mtime_waster\u001b[0;34m(min_delay, max_delay)\u001b[0m\n\u001b[1;32m      6\u001b[0m \u001b[0;34m\u001b[0m\u001b[0m\n\u001b[1;32m      7\u001b[0m     \u001b[0mdelay\u001b[0m \u001b[0;34m=\u001b[0m \u001b[0;34m(\u001b[0m\u001b[0mmax_delay\u001b[0m\u001b[0;34m-\u001b[0m\u001b[0mmin_delay\u001b[0m\u001b[0;34m)\u001b[0m\u001b[0;34m*\u001b[0m\u001b[0mrandom\u001b[0m\u001b[0;34m.\u001b[0m\u001b[0mrandom\u001b[0m\u001b[0;34m(\u001b[0m\u001b[0;34m)\u001b[0m \u001b[0;34m+\u001b[0m \u001b[0mmin_delay\u001b[0m\u001b[0;34m\u001b[0m\u001b[0;34m\u001b[0m\u001b[0m\n\u001b[0;32m----> 8\u001b[0;31m     \u001b[0mtime\u001b[0m\u001b[0;34m.\u001b[0m\u001b[0msleep\u001b[0m\u001b[0;34m(\u001b[0m\u001b[0mdelay\u001b[0m\u001b[0;34m)\u001b[0m\u001b[0;34m\u001b[0m\u001b[0;34m\u001b[0m\u001b[0m\n\u001b[0m\u001b[1;32m      9\u001b[0m     \u001b[0;32mreturn\u001b[0m \u001b[0mdelay\u001b[0m\u001b[0;34m\u001b[0m\u001b[0;34m\u001b[0m\u001b[0m\n\u001b[1;32m     10\u001b[0m \u001b[0;34m\u001b[0m\u001b[0m\n",
      "\u001b[0;31mKeyboardInterrupt\u001b[0m: "
     ]
    }
   ],
   "source": [
    "# The slow version!\n",
    "import time\n",
    "import random\n",
    "\n",
    "def time_waster(min_delay: float = 1, max_delay: float=1) -> float:\n",
    "    \n",
    "    delay = (max_delay-min_delay)*random.random() + min_delay\n",
    "    time.sleep(delay)\n",
    "    return delay\n",
    "\n",
    "def main():\n",
    "    for _ in range(10):\n",
    "        result = time_waster(min_delay=2,max_delay=3)\n",
    "        print(f\"Delay was {result} sec\")\n",
    "        \n",
    "if __name__ == \"main\":\n",
    "    start = time.time()\n",
    "    main()\n",
    "    print(f\"Took {time.time() - start}\")\n",
    "    \n",
    "main()"
   ]
  },
  {
   "cell_type": "code",
   "execution_count": 8,
   "id": "fdba0fa0-37a1-4810-9384-fc927147e318",
   "metadata": {},
   "outputs": [
    {
     "name": "stdout",
     "output_type": "stream",
     "text": [
      "Delay was 2.6861617063942558 sec\n",
      "Delay was 9.523093161880043 sec\n",
      "Delay was 20.669533161736144 sec\n",
      "Delay was 12.559721903798707 sec\n",
      "Delay was 18.940530024096965 sec\n",
      "Delay was 24.278566129368357 sec\n",
      "Delay was 3.372184541771611 sec\n",
      "Delay was 21.66214743412878 sec\n",
      "Delay was 17.29045392722999 sec\n",
      "Delay was 8.488699986999823 sec\n"
     ]
    }
   ],
   "source": [
    "# The ray version!\n",
    "# It takes > 1s to start up\n",
    "import time\n",
    "import random\n",
    "import ray\n",
    "\n",
    "@ray.remote # added decorator\n",
    "def time_waster(min_delay: float = 1, max_delay: float=1) -> float:\n",
    "    \n",
    "    delay = (max_delay-min_delay)*random.random() + min_delay\n",
    "    time.sleep(delay)\n",
    "    return delay\n",
    "\n",
    "def main():\n",
    "    pending = []\n",
    "    for _ in range(10):\n",
    "        # This will return a reference to a process that isn't necesarilly finished computing\n",
    "        ref = time_waster.remote(min_delay=2,max_delay=30) # change how it's called\n",
    "        pending.append(ref) # hold on to results until they are done\n",
    "        \n",
    "        # submission is happening one at a time, process happens in parallel\n",
    "        \n",
    "    for ref in pending: # loop over results\n",
    "        result = ray.get(ref) # get references\n",
    "        print(f\"Delay was {result} sec\")\n",
    "        \n",
    "if __name__ == \"main\":\n",
    "    start = time.time()\n",
    "    main()\n",
    "    print(f\"Took {time.time() - start}\")\n",
    "    \n",
    "main()"
   ]
  },
  {
   "cell_type": "markdown",
   "id": "a744e103-f459-4a0c-9826-8409f21cbf48",
   "metadata": {},
   "source": [
    "## The Drawback\n",
    "The process is "
   ]
  },
  {
   "cell_type": "code",
   "execution_count": null,
   "id": "f4687d16-072c-4549-90c7-d4a14f249744",
   "metadata": {},
   "outputs": [],
   "source": []
  }
 ],
 "metadata": {
  "kernelspec": {
   "display_name": "Python 3",
   "language": "python",
   "name": "python3"
  },
  "language_info": {
   "codemirror_mode": {
    "name": "ipython",
    "version": 3
   },
   "file_extension": ".py",
   "mimetype": "text/x-python",
   "name": "python",
   "nbconvert_exporter": "python",
   "pygments_lexer": "ipython3",
   "version": "3.8.8"
  }
 },
 "nbformat": 4,
 "nbformat_minor": 5
}
